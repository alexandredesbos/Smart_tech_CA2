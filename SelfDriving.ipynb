{
  "cells": [
    {
      "cell_type": "code",
      "execution_count": null,
      "metadata": {
        "id": "dF7mtjE3X7Sx"
      },
      "outputs": [],
      "source": [
        "import numpy as np\n",
        "import matplotlib.pyplot as plt\n",
        "import keras\n",
        "from keras.models import Sequential\n",
        "from keras.optimizers import Adam\n",
        "from keras.layers import Convolution2D, MaxPool2D, Dropout, Flatten, Dense\n",
        "import cv2\n",
        "import pandas as pd\n",
        "import random\n",
        "import os\n",
        "import ntpath\n",
        "from sklearn.utils import shuffle\n",
        "from sklearn.model_selection import train_test_split\n",
        "import matplotlib.image as npimg\n",
        "from imgaug import augmenters as iaa"
      ]
    },
    {
      "cell_type": "code",
      "execution_count": null,
      "metadata": {
        "colab": {
          "base_uri": "https://localhost:8080/"
        },
        "id": "YRafOzoLYlLq",
        "outputId": "62c7441b-58c0-41ed-9c35-120f39220929"
      },
      "outputs": [
        {
          "name": "stdout",
          "output_type": "stream",
          "text": [
            "<bound method NDFrame.head of                                                  center  \\\n",
            "0     /Users/alexd/Documents/etudes/M1/S7/smart_tech...   \n",
            "1     /Users/alexd/Documents/etudes/M1/S7/smart_tech...   \n",
            "2     /Users/alexd/Documents/etudes/M1/S7/smart_tech...   \n",
            "3     /Users/alexd/Documents/etudes/M1/S7/smart_tech...   \n",
            "4     /Users/alexd/Documents/etudes/M1/S7/smart_tech...   \n",
            "...                                                 ...   \n",
            "1193  /Users/alexd/Documents/etudes/M1/S7/smart_tech...   \n",
            "1194  /Users/alexd/Documents/etudes/M1/S7/smart_tech...   \n",
            "1195  /Users/alexd/Documents/etudes/M1/S7/smart_tech...   \n",
            "1196  /Users/alexd/Documents/etudes/M1/S7/smart_tech...   \n",
            "1197  /Users/alexd/Documents/etudes/M1/S7/smart_tech...   \n",
            "\n",
            "                                                   left  \\\n",
            "0     /Users/alexd/Documents/etudes/M1/S7/smart_tech...   \n",
            "1     /Users/alexd/Documents/etudes/M1/S7/smart_tech...   \n",
            "2     /Users/alexd/Documents/etudes/M1/S7/smart_tech...   \n",
            "3     /Users/alexd/Documents/etudes/M1/S7/smart_tech...   \n",
            "4     /Users/alexd/Documents/etudes/M1/S7/smart_tech...   \n",
            "...                                                 ...   \n",
            "1193  /Users/alexd/Documents/etudes/M1/S7/smart_tech...   \n",
            "1194  /Users/alexd/Documents/etudes/M1/S7/smart_tech...   \n",
            "1195  /Users/alexd/Documents/etudes/M1/S7/smart_tech...   \n",
            "1196  /Users/alexd/Documents/etudes/M1/S7/smart_tech...   \n",
            "1197  /Users/alexd/Documents/etudes/M1/S7/smart_tech...   \n",
            "\n",
            "                                                  right  steering  throttle  \\\n",
            "0     /Users/alexd/Documents/etudes/M1/S7/smart_tech...       0.0       0.0   \n",
            "1     /Users/alexd/Documents/etudes/M1/S7/smart_tech...       0.0       0.0   \n",
            "2     /Users/alexd/Documents/etudes/M1/S7/smart_tech...       0.0       0.0   \n",
            "3     /Users/alexd/Documents/etudes/M1/S7/smart_tech...       0.0       0.0   \n",
            "4     /Users/alexd/Documents/etudes/M1/S7/smart_tech...       0.0       0.0   \n",
            "...                                                 ...       ...       ...   \n",
            "1193  /Users/alexd/Documents/etudes/M1/S7/smart_tech...       0.0       0.0   \n",
            "1194  /Users/alexd/Documents/etudes/M1/S7/smart_tech...       0.0       0.0   \n",
            "1195  /Users/alexd/Documents/etudes/M1/S7/smart_tech...       0.0       0.0   \n",
            "1196  /Users/alexd/Documents/etudes/M1/S7/smart_tech...       0.0       0.0   \n",
            "1197  /Users/alexd/Documents/etudes/M1/S7/smart_tech...       0.0       0.0   \n",
            "\n",
            "      reverse         speed  \n",
            "0           0  8.465614e-07  \n",
            "1           0  1.011554e-05  \n",
            "2           0  1.520549e-05  \n",
            "3           0  3.981507e-05  \n",
            "4           0  6.026511e-06  \n",
            "...       ...           ...  \n",
            "1193        0  2.805970e+01  \n",
            "1194        0  2.783381e+01  \n",
            "1195        0  2.766501e+01  \n",
            "1196        0  2.744002e+01  \n",
            "1197        0  2.727264e+01  \n",
            "\n",
            "[1198 rows x 7 columns]>\n"
          ]
        }
      ],
      "source": [
        "datadir = \"Record-track-1\"\n",
        "columns = [\"center\", \"left\",\"right\",\"steering\",\"throttle\",\"reverse\",\"speed\"]\n",
        "data = pd.read_csv(os.path.join(datadir,\"driving_log.csv\"),names=columns)\n",
        "pd.set_option('display.max_columns', 7)\n",
        "print(data.head)\n"
      ]
    },
    {
      "cell_type": "code",
      "execution_count": null,
      "metadata": {
        "id": "AqBLvN76aDJB"
      },
      "outputs": [],
      "source": [
        "def path_leaf(path):\n",
        "  head,tail = ntpath.split(path)\n",
        "  return tail"
      ]
    },
    {
      "cell_type": "code",
      "execution_count": null,
      "metadata": {
        "id": "xF_nMWEAbWFv"
      },
      "outputs": [],
      "source": [
        "data['center'] = data['center'].apply(path_leaf)\n",
        "data['left'] = data['left'].apply(path_leaf)\n",
        "data['right'] = data['right'].apply(path_leaf)"
      ]
    },
    {
      "cell_type": "code",
      "execution_count": null,
      "metadata": {
        "colab": {
          "base_uri": "https://localhost:8080/"
        },
        "id": "CXT33L_0cVVx",
        "outputId": "7b964d23-304f-4bb2-f12e-26b96eb8223a"
      },
      "outputs": [
        {
          "name": "stdout",
          "output_type": "stream",
          "text": [
            "                               center                              left  \\\n",
            "0  center_2024_01_05_11_32_39_028.jpg  left_2024_01_05_11_32_39_028.jpg   \n",
            "1  center_2024_01_05_11_32_39_106.jpg  left_2024_01_05_11_32_39_106.jpg   \n",
            "2  center_2024_01_05_11_32_39_184.jpg  left_2024_01_05_11_32_39_184.jpg   \n",
            "3  center_2024_01_05_11_32_39_263.jpg  left_2024_01_05_11_32_39_263.jpg   \n",
            "4  center_2024_01_05_11_32_39_343.jpg  left_2024_01_05_11_32_39_343.jpg   \n",
            "\n",
            "                               right  steering  throttle  reverse  \\\n",
            "0  right_2024_01_05_11_32_39_028.jpg       0.0       0.0        0   \n",
            "1  right_2024_01_05_11_32_39_106.jpg       0.0       0.0        0   \n",
            "2  right_2024_01_05_11_32_39_184.jpg       0.0       0.0        0   \n",
            "3  right_2024_01_05_11_32_39_263.jpg       0.0       0.0        0   \n",
            "4  right_2024_01_05_11_32_39_343.jpg       0.0       0.0        0   \n",
            "\n",
            "          speed  \n",
            "0  8.465614e-07  \n",
            "1  1.011554e-05  \n",
            "2  1.520549e-05  \n",
            "3  3.981507e-05  \n",
            "4  6.026511e-06  \n"
          ]
        }
      ],
      "source": [
        "print(data.head())"
      ]
    },
    {
      "cell_type": "markdown",
      "metadata": {
        "id": "z0sz5BOpcnMi"
      },
      "source": [
        "### **Start of Pre Processing**"
      ]
    },
    {
      "cell_type": "code",
      "execution_count": null,
      "metadata": {
        "colab": {
          "base_uri": "https://localhost:8080/"
        },
        "id": "scPdLPSncpUi",
        "outputId": "1f3b980a-5592-4bac-c3a7-8d8f7039eb62"
      },
      "outputs": [
        {
          "name": "stdout",
          "output_type": "stream",
          "text": [
            "[-0.2656715  -0.24389881 -0.22212612 -0.20035342 -0.17858073 -0.15680804\n",
            " -0.13503535 -0.11326266 -0.09148996 -0.06971727 -0.04794458 -0.02617189\n",
            " -0.0043992   0.0173735   0.03914619  0.06091888  0.08269157  0.10446426\n",
            "  0.12623696  0.14800965  0.16978234  0.19155503  0.21332772  0.23510042\n",
            "  0.25687311  0.2786458 ]\n"
          ]
        }
      ],
      "source": [
        "num_bins = 25\n",
        "samples_per_bin = 250\n",
        "hist,bins = np.histogram(data['steering'],num_bins)\n",
        "print(bins)"
      ]
    },
    {
      "cell_type": "code",
      "execution_count": null,
      "metadata": {
        "colab": {
          "base_uri": "https://localhost:8080/",
          "height": 515
        },
        "id": "8M6k3tcodnRM",
        "outputId": "91bfc257-b21e-4e68-e374-5183a606e24b"
      },
      "outputs": [
        {
          "name": "stdout",
          "output_type": "stream",
          "text": [
            "[-0.25478515 -0.23301246 -0.21123977 -0.18946708 -0.16769439 -0.14592169\n",
            " -0.124149   -0.10237631 -0.08060362 -0.05883093 -0.03705823 -0.01528554\n",
            "  0.00648715  0.02825984  0.05003253  0.07180523  0.09357792  0.11535061\n",
            "  0.1371233   0.15889599  0.18066869  0.20244138  0.22421407  0.24598676\n",
            "  0.26775945]\n"
          ]
        },
        {
          "data": {
            "image/png": "[encoded data removed]",
            "text/plain": [
              "<Figure size 640x480 with 1 Axes>"
            ]
          },
          "metadata": {},
          "output_type": "display_data"
        }
      ],
      "source": [
        "centre = (bins[:-1] + bins[1:]) * 0.5\n",
        "plt.bar(centre,hist,width=0.05)\n",
        "plt.plot((np.min(data['steering']),np.max(data['steering'])),(samples_per_bin,samples_per_bin))\n",
        "print(centre)"
      ]
    },
    {
      "cell_type": "code",
      "execution_count": null,
      "metadata": {
        "colab": {
          "base_uri": "https://localhost:8080/"
        },
        "id": "NHE8fyWIe7QS",
        "outputId": "d94df0a8-8104-4bbe-f84a-9a09841e8740"
      },
      "outputs": [
        {
          "name": "stdout",
          "output_type": "stream",
          "text": [
            "Total Data:  1198\n"
          ]
        }
      ],
      "source": [
        "remove_list = []\n",
        "print(\"Total Data: \" , len(data))"
      ]
    },
    {
      "cell_type": "code",
      "execution_count": null,
      "metadata": {
        "id": "U_FwuhU5iTQc"
      },
      "outputs": [],
      "source": [
        "for j in range(num_bins):\n",
        "  list_ = []\n",
        "  for i in range (len(data['steering'])):\n",
        "    if bins[j] <= data['steering'][i] <= bins[j+1]:\n",
        "      list_.append(i)\n",
        "  list_ = shuffle(list_)\n",
        "  list_ = list_[samples_per_bin:]\n",
        "  remove_list.extend(list_)\n"
      ]
    },
    {
      "cell_type": "code",
      "execution_count": null,
      "metadata": {
        "colab": {
          "base_uri": "https://localhost:8080/"
        },
        "id": "E8JC2wCijnJx",
        "outputId": "28753359-c5ef-4d1c-e561-6dc197a183e8"
      },
      "outputs": [
        {
          "name": "stdout",
          "output_type": "stream",
          "text": [
            "Removed:  0\n"
          ]
        }
      ],
      "source": [
        "print(\"Removed: \", len(remove_list))"
      ]
    },
    {
      "cell_type": "markdown",
      "metadata": {
        "id": "opy6xizkkhM4"
      },
      "source": [
        "## **Actually Removing Data**"
      ]
    },
    {
      "cell_type": "code",
      "execution_count": null,
      "metadata": {
        "colab": {
          "base_uri": "https://localhost:8080/"
        },
        "id": "LgB9qCnJkklN",
        "outputId": "f6d5eaff-e0e2-48bc-fa0f-a24e5fc381db"
      },
      "outputs": [
        {
          "name": "stdout",
          "output_type": "stream",
          "text": [
            "Remaining Data:  1198\n"
          ]
        }
      ],
      "source": [
        "data.drop(data.index[remove_list], inplace=True)\n",
        "print(\"Remaining Data: \", len(data))"
      ]
    },
    {
      "cell_type": "code",
      "execution_count": null,
      "metadata": {
        "colab": {
          "base_uri": "https://localhost:8080/",
          "height": 447
        },
        "id": "ecXdJaE-lBti",
        "outputId": "3072d71f-64ab-42f2-d7e7-c95aa00ef3ea"
      },
      "outputs": [
        {
          "data": {
            "text/plain": [
              "[<matplotlib.lines.Line2D at 0x7fb9fe12aef0>]"
            ]
          },
          "execution_count": 54,
          "metadata": {},
          "output_type": "execute_result"
        },
        {
          "data": {
            "image/png": "[encoded data removed]",
            "text/plain": [
              "<Figure size 640x480 with 1 Axes>"
            ]
          },
          "metadata": {},
          "output_type": "display_data"
        }
      ],
      "source": [
        "hist, _ = np.histogram(data['steering'],num_bins)\n",
        "plt.bar(centre,hist,width=0.05)\n",
        "plt.plot((np.min(data['steering']),np.max(data['steering'])),(samples_per_bin,samples_per_bin))"
      ]
    },
    {
      "cell_type": "code",
      "execution_count": null,
      "metadata": {
        "id": "HQ_aLe2dnMXJ"
      },
      "outputs": [],
      "source": [
        "# Training and Validation Split\n",
        "def load_img_steering(datadir, df):\n",
        "  image_path = []\n",
        "  steering = []\n",
        "  for i in range(len(data)):\n",
        "    indexed_data = data.iloc[i]\n",
        "    centre,left,right = indexed_data[0], indexed_data[1],indexed_data[2]\n",
        "    image_path.append(os.path.join(datadir,centre.strip()))\n",
        "    steering.append(float(indexed_data[3]))\n",
        "  image_paths = np.asarray(image_path)\n",
        "  steerings = np.asarray(steering)\n",
        "  return image_paths, steerings"
      ]
    },
    {
      "cell_type": "code",
      "execution_count": null,
      "metadata": {
        "id": "GyTNIXjvpJNY"
      },
      "outputs": [],
      "source": [
        "image_paths, steerings = load_img_steering(datadir+'/IMG',data)\n",
        "X_train,X_valid,y_train,y_valid = train_test_split(image_paths,steerings,test_size=0.2,random_state=6)"
      ]
    },
    {
      "cell_type": "code",
      "execution_count": null,
      "metadata": {
        "colab": {
          "base_uri": "https://localhost:8080/"
        },
        "id": "puDfeX24p4Iq",
        "outputId": "1e842233-bd8f-4126-97f7-417557cd4511"
      },
      "outputs": [
        {
          "name": "stdout",
          "output_type": "stream",
          "text": [
            "Training Samples:  958 Validation Samples:  240\n"
          ]
        }
      ],
      "source": [
        "print(\"Training Samples: \", (len(X_train)),\"Validation Samples: \", (len(X_valid)))"
      ]
    },
    {
      "cell_type": "code",
      "execution_count": null,
      "metadata": {
        "colab": {
          "base_uri": "https://localhost:8080/",
          "height": 408
        },
        "id": "cPtulv9VqmK3",
        "outputId": "396727da-cdf1-4042-fdc1-f8caf8826f10"
      },
      "outputs": [
        {
          "data": {
            "text/plain": [
              "Text(0.5, 1.0, 'Validation Set')"
            ]
          },
          "execution_count": 58,
          "metadata": {},
          "output_type": "execute_result"
        },
        {
          "data": {
            "image/png": "[encoded data removed]",
            "text/plain": [
              "<Figure size 1200x400 with 2 Axes>"
            ]
          },
          "metadata": {},
          "output_type": "display_data"
        }
      ],
      "source": [
        "fig,axes = plt.subplots(1,2,figsize = (12,4))\n",
        "axes[0].hist(y_train,bins = num_bins, width=0.05,color='blue')\n",
        "axes[0].set_title('Training Set')\n",
        "axes[1].hist(y_valid,bins = num_bins, width=0.05,color='red')\n",
        "axes[1].set_title('Validation Set')"
      ]
    },
    {
      "cell_type": "code",
      "execution_count": null,
      "metadata": {
        "id": "bEVc1as_Dd7Z"
      },
      "outputs": [],
      "source": [
        "def zoom(image):\n",
        "  zoom = iaa.Affine(scale=(1, 1.3))\n",
        "  image = zoom.augment_image(image)\n",
        "  return image"
      ]
    },
    {
      "cell_type": "code",
      "execution_count": null,
      "metadata": {
        "colab": {
          "base_uri": "https://localhost:8080/",
          "height": 385
        },
        "id": "R97v99t3D9XY",
        "outputId": "6bd500e0-7731-4223-ef1c-82aadf8eefda"
      },
      "outputs": [
        {
          "ename": "FileNotFoundError",
          "evalue": "[Errno 2] No such file or directory: 'Record-track-1/IMG/center_2024_01_05_11_33_37_275.jpg'",
          "output_type": "error",
          "traceback": [
            "\u001b[0;31m---------------------------------------------------------------------------\u001b[0m",
            "\u001b[0;31mFileNotFoundError\u001b[0m                         Traceback (most recent call last)",
            "\u001b[0;32m<ipython-input-60-49b7074a326f>\u001b[0m in \u001b[0;36m<cell line: 2>\u001b[0;34m()\u001b[0m\n\u001b[1;32m      1\u001b[0m \u001b[0mimage\u001b[0m \u001b[0;34m=\u001b[0m \u001b[0mimage_paths\u001b[0m\u001b[0;34m[\u001b[0m\u001b[0mrandom\u001b[0m\u001b[0;34m.\u001b[0m\u001b[0mrandint\u001b[0m\u001b[0;34m(\u001b[0m\u001b[0;36m0\u001b[0m\u001b[0;34m,\u001b[0m\u001b[0;36m1000\u001b[0m\u001b[0;34m)\u001b[0m\u001b[0;34m]\u001b[0m\u001b[0;34m\u001b[0m\u001b[0;34m\u001b[0m\u001b[0m\n\u001b[0;32m----> 2\u001b[0;31m \u001b[0moriginal_image\u001b[0m \u001b[0;34m=\u001b[0m \u001b[0mplt\u001b[0m\u001b[0;34m.\u001b[0m\u001b[0mimread\u001b[0m\u001b[0;34m(\u001b[0m\u001b[0mimage\u001b[0m\u001b[0;34m)\u001b[0m\u001b[0;34m\u001b[0m\u001b[0;34m\u001b[0m\u001b[0m\n\u001b[0m\u001b[1;32m      3\u001b[0m \u001b[0mzoomed_image\u001b[0m \u001b[0;34m=\u001b[0m \u001b[0mzoom\u001b[0m\u001b[0;34m(\u001b[0m\u001b[0moriginal_image\u001b[0m\u001b[0;34m)\u001b[0m\u001b[0;34m\u001b[0m\u001b[0;34m\u001b[0m\u001b[0m\n\u001b[1;32m      4\u001b[0m \u001b[0mfig\u001b[0m\u001b[0;34m,\u001b[0m\u001b[0maxes\u001b[0m \u001b[0;34m=\u001b[0m \u001b[0mplt\u001b[0m\u001b[0;34m.\u001b[0m\u001b[0msubplots\u001b[0m\u001b[0;34m(\u001b[0m\u001b[0;36m1\u001b[0m\u001b[0;34m,\u001b[0m\u001b[0;36m2\u001b[0m\u001b[0;34m,\u001b[0m\u001b[0mfigsize\u001b[0m \u001b[0;34m=\u001b[0m \u001b[0;34m(\u001b[0m\u001b[0;36m12\u001b[0m\u001b[0;34m,\u001b[0m\u001b[0;36m4\u001b[0m\u001b[0;34m)\u001b[0m\u001b[0;34m)\u001b[0m\u001b[0;34m\u001b[0m\u001b[0;34m\u001b[0m\u001b[0m\n\u001b[1;32m      5\u001b[0m \u001b[0maxes\u001b[0m\u001b[0;34m[\u001b[0m\u001b[0;36m0\u001b[0m\u001b[0;34m]\u001b[0m\u001b[0;34m.\u001b[0m\u001b[0mimshow\u001b[0m\u001b[0;34m(\u001b[0m\u001b[0moriginal_image\u001b[0m\u001b[0;34m)\u001b[0m\u001b[0;34m\u001b[0m\u001b[0;34m\u001b[0m\u001b[0m\n",
            "\u001b[0;32m/usr/local/lib/python3.10/dist-packages/matplotlib/pyplot.py\u001b[0m in \u001b[0;36mimread\u001b[0;34m(fname, format)\u001b[0m\n\u001b[1;32m   2193\u001b[0m \u001b[0;34m@\u001b[0m\u001b[0m_copy_docstring_and_deprecators\u001b[0m\u001b[0;34m(\u001b[0m\u001b[0mmatplotlib\u001b[0m\u001b[0;34m.\u001b[0m\u001b[0mimage\u001b[0m\u001b[0;34m.\u001b[0m\u001b[0mimread\u001b[0m\u001b[0;34m)\u001b[0m\u001b[0;34m\u001b[0m\u001b[0;34m\u001b[0m\u001b[0m\n\u001b[1;32m   2194\u001b[0m \u001b[0;32mdef\u001b[0m \u001b[0mimread\u001b[0m\u001b[0;34m(\u001b[0m\u001b[0mfname\u001b[0m\u001b[0;34m,\u001b[0m \u001b[0mformat\u001b[0m\u001b[0;34m=\u001b[0m\u001b[0;32mNone\u001b[0m\u001b[0;34m)\u001b[0m\u001b[0;34m:\u001b[0m\u001b[0;34m\u001b[0m\u001b[0;34m\u001b[0m\u001b[0m\n\u001b[0;32m-> 2195\u001b[0;31m     \u001b[0;32mreturn\u001b[0m \u001b[0mmatplotlib\u001b[0m\u001b[0;34m.\u001b[0m\u001b[0mimage\u001b[0m\u001b[0;34m.\u001b[0m\u001b[0mimread\u001b[0m\u001b[0;34m(\u001b[0m\u001b[0mfname\u001b[0m\u001b[0;34m,\u001b[0m \u001b[0mformat\u001b[0m\u001b[0;34m)\u001b[0m\u001b[0;34m\u001b[0m\u001b[0;34m\u001b[0m\u001b[0m\n\u001b[0m\u001b[1;32m   2196\u001b[0m \u001b[0;34m\u001b[0m\u001b[0m\n\u001b[1;32m   2197\u001b[0m \u001b[0;34m\u001b[0m\u001b[0m\n",
            "\u001b[0;32m/usr/local/lib/python3.10/dist-packages/matplotlib/image.py\u001b[0m in \u001b[0;36mimread\u001b[0;34m(fname, format)\u001b[0m\n\u001b[1;32m   1561\u001b[0m             \u001b[0;34m\"``np.array(PIL.Image.open(urllib.request.urlopen(url)))``.\"\u001b[0m\u001b[0;34m\u001b[0m\u001b[0;34m\u001b[0m\u001b[0m\n\u001b[1;32m   1562\u001b[0m             )\n\u001b[0;32m-> 1563\u001b[0;31m     \u001b[0;32mwith\u001b[0m \u001b[0mimg_open\u001b[0m\u001b[0;34m(\u001b[0m\u001b[0mfname\u001b[0m\u001b[0;34m)\u001b[0m \u001b[0;32mas\u001b[0m \u001b[0mimage\u001b[0m\u001b[0;34m:\u001b[0m\u001b[0;34m\u001b[0m\u001b[0;34m\u001b[0m\u001b[0m\n\u001b[0m\u001b[1;32m   1564\u001b[0m         return (_pil_png_to_float_array(image)\n\u001b[1;32m   1565\u001b[0m                 \u001b[0;32mif\u001b[0m \u001b[0misinstance\u001b[0m\u001b[0;34m(\u001b[0m\u001b[0mimage\u001b[0m\u001b[0;34m,\u001b[0m \u001b[0mPIL\u001b[0m\u001b[0;34m.\u001b[0m\u001b[0mPngImagePlugin\u001b[0m\u001b[0;34m.\u001b[0m\u001b[0mPngImageFile\u001b[0m\u001b[0;34m)\u001b[0m \u001b[0;32melse\u001b[0m\u001b[0;34m\u001b[0m\u001b[0;34m\u001b[0m\u001b[0m\n",
            "\u001b[0;32m/usr/local/lib/python3.10/dist-packages/PIL/Image.py\u001b[0m in \u001b[0;36mopen\u001b[0;34m(fp, mode, formats)\u001b[0m\n\u001b[1;32m   3225\u001b[0m \u001b[0;34m\u001b[0m\u001b[0m\n\u001b[1;32m   3226\u001b[0m     \u001b[0;32mif\u001b[0m \u001b[0mfilename\u001b[0m\u001b[0;34m:\u001b[0m\u001b[0;34m\u001b[0m\u001b[0;34m\u001b[0m\u001b[0m\n\u001b[0;32m-> 3227\u001b[0;31m         \u001b[0mfp\u001b[0m \u001b[0;34m=\u001b[0m \u001b[0mbuiltins\u001b[0m\u001b[0;34m.\u001b[0m\u001b[0mopen\u001b[0m\u001b[0;34m(\u001b[0m\u001b[0mfilename\u001b[0m\u001b[0;34m,\u001b[0m \u001b[0;34m\"rb\"\u001b[0m\u001b[0;34m)\u001b[0m\u001b[0;34m\u001b[0m\u001b[0;34m\u001b[0m\u001b[0m\n\u001b[0m\u001b[1;32m   3228\u001b[0m         \u001b[0mexclusive_fp\u001b[0m \u001b[0;34m=\u001b[0m \u001b[0;32mTrue\u001b[0m\u001b[0;34m\u001b[0m\u001b[0;34m\u001b[0m\u001b[0m\n\u001b[1;32m   3229\u001b[0m \u001b[0;34m\u001b[0m\u001b[0m\n",
            "\u001b[0;31mFileNotFoundError\u001b[0m: [Errno 2] No such file or directory: 'Record-track-1/IMG/center_2024_01_05_11_33_37_275.jpg'"
          ]
        }
      ],
      "source": [
        "image = image_paths[random.randint(0,1000)]\n",
        "original_image = plt.imread(image)\n",
        "zoomed_image = zoom(original_image)\n",
        "fig,axes = plt.subplots(1,2,figsize = (12,4))\n",
        "axes[0].imshow(original_image)\n",
        "axes[0].set_title('Original image')\n",
        "axes[1].imshow(zoomed_image)\n",
        "axes[1].set_title('zoom image')"
      ]
    },
    {
      "cell_type": "code",
      "execution_count": null,
      "metadata": {
        "id": "GL1tiKxDFT4v"
      },
      "outputs": [],
      "source": [
        "def pan(image):\n",
        "  pan = iaa.Affine(translate_percent={\"x\":(-0.1,0.1), \"y\":(-0.1, 0.1)})\n",
        "  panned_image = pan.augment_image(image)\n",
        "  return panned_image"
      ]
    },
    {
      "cell_type": "code",
      "execution_count": null,
      "metadata": {
        "id": "-6MizxuoF7DY"
      },
      "outputs": [],
      "source": [
        "image = image_paths[random.randint(0,1000)]\n",
        "original_image = plt.imread(image)\n",
        "panned_image = pan(original_image)\n",
        "fig,axes = plt.subplots(1,2,figsize = (12,4))\n",
        "axes[0].imshow(original_image)\n",
        "axes[0].set_title('Original image')\n",
        "axes[1].imshow(panned_image)\n",
        "axes[1].set_title('panned image')"
      ]
    },
    {
      "cell_type": "code",
      "execution_count": null,
      "metadata": {
        "id": "2T4kjBgEGcYg"
      },
      "outputs": [],
      "source": [
        "def img_random_brightness(image):\n",
        "  brightness = iaa.Multiply((0.2, 1.2))\n",
        "  image = brightness.augment_image(image)\n",
        "  return image"
      ]
    },
    {
      "cell_type": "code",
      "execution_count": null,
      "metadata": {
        "id": "-apn3Js_HFHB"
      },
      "outputs": [],
      "source": [
        "image = image_paths[random.randint(0,1000)]\n",
        "original_image = plt.imread(image)\n",
        "bright_image = img_random_brightness(original_image)\n",
        "fig,axes = plt.subplots(1,2,figsize = (12,4))\n",
        "axes[0].imshow(original_image)\n",
        "axes[0].set_title('Original image')\n",
        "axes[1].imshow(bright_image)\n",
        "axes[1].set_title('bright image')"
      ]
    },
    {
      "cell_type": "code",
      "execution_count": null,
      "metadata": {
        "id": "ldvF31tIH1Ir"
      },
      "outputs": [],
      "source": [
        "def img_random_flip(image, steering_angle):\n",
        "  image = cv2.flip(image, 1)\n",
        "  steering_angle = -steering_angle\n",
        "  return image, steering_angle\n"
      ]
    },
    {
      "cell_type": "code",
      "execution_count": null,
      "metadata": {
        "id": "T4R3ueP8IUNt"
      },
      "outputs": [],
      "source": [
        "random_index = random.randint(0, 1000)\n",
        "image = image_paths[random_index]\n",
        "steering_angle = steerings[random_index]\n",
        "original_image = plt.imread(image)\n",
        "flipped_image, flipped_steering = img_random_flip(original_image, steering_angle)\n",
        "fig,axes = plt.subplots(1,2,figsize = (12,4))\n",
        "axes[0].imshow(original_image)\n",
        "axes[0].set_title('Original image + sterring angle ' + str(steering_angle))\n",
        "axes[1].imshow(flipped_image)\n",
        "axes[1].set_title('flipped image + sterring angle ' + str(flipped_steering))"
      ]
    },
    {
      "cell_type": "code",
      "execution_count": null,
      "metadata": {
        "id": "lFzQW6JWJxZO"
      },
      "outputs": [],
      "source": [
        "def random_augment(image, steering_angle):\n",
        "  image = plt.imread(image)\n",
        "  if np.random.rand() < 0.5:\n",
        "    image = zoom(image)\n",
        "  if np.random.rand() < 0.5:\n",
        "    image = pan(image)\n",
        "  if np.random.rand() < 0.5:\n",
        "    image = img_random_brightness(image)\n",
        "  if np.random.rand() < 0.5:\n",
        "    image, steering_angle = img_random_flip(image, steering_angle)\n",
        "  return image, steering_angle"
      ]
    },
    {
      "cell_type": "code",
      "execution_count": null,
      "metadata": {
        "id": "TT36sYjgKWxM"
      },
      "outputs": [],
      "source": [
        "ncols = 2\n",
        "nrows = 10\n",
        "fig, axs = plt.subplots(nrows, ncols, figsize=(15, 50))\n",
        "fig.tight_layout()\n",
        "for i in range(10):\n",
        "  rand_num = random.randint(0, len(image_paths)-1)\n",
        "  random_image = image_paths[rand_num]\n",
        "  random_steering = steerings[rand_num]\n",
        "  original_image = plt.imread(random_image)\n",
        "  augmented_image, steering_angle = random_augment(random_image, random_steering)\n",
        "  axs[i][0].imshow(original_image)\n",
        "  axs[i][0].set_title(\"original image\")\n",
        "  axs[i][1].imshow(augmented_image)\n",
        "  axs[i][1].set_title(\"augmented image\")"
      ]
    },
    {
      "cell_type": "code",
      "execution_count": null,
      "metadata": {
        "id": "kPfU2qUdPBMi"
      },
      "outputs": [],
      "source": []
    },
    {
      "cell_type": "code",
      "execution_count": null,
      "metadata": {
        "id": "oUmD2nrAstC8"
      },
      "outputs": [],
      "source": [
        "#Pre Proceess Images\n",
        "def img_process(img):\n",
        "  img = npimg.imread(img)\n",
        "  img = cv2.cvtColor(img,cv2.COLOR_RGB2YUV)\n",
        "  img = cv2.GaussianBlur(img,(3,3),0)\n",
        "  img = cv2.resize(img,(200,66))\n",
        "  img = img/255\n",
        "  return img"
      ]
    },
    {
      "cell_type": "code",
      "execution_count": null,
      "metadata": {
        "id": "EosImaERQsTp"
      },
      "outputs": [],
      "source": [
        "#Pre Proceess Images\n",
        "def img_process_no_imread(img):\n",
        "  img = cv2.cvtColor(img,cv2.COLOR_RGB2YUV)\n",
        "  img = cv2.GaussianBlur(img,(3,3),0)\n",
        "  img = cv2.resize(img,(200,66))\n",
        "  img = img/255\n",
        "  return img"
      ]
    },
    {
      "cell_type": "code",
      "execution_count": null,
      "metadata": {
        "id": "AqbhejdKPEv0"
      },
      "outputs": [],
      "source": [
        "def batch_generator(image_paths, steering_angles, batch_size, is_training):\n",
        "  while True:\n",
        "    batch_img = []\n",
        "    batch_steering = []\n",
        "    for i in range(batch_size):\n",
        "      random_index = random.randint(0, len(image_paths)-1)\n",
        "      if is_training:\n",
        "        im, steering = random_augment(image_paths[random_index], steering_angles[random_index])\n",
        "      else:\n",
        "        im = plt.imread(image_paths[random_index])\n",
        "        steering = steering_angles[random_index]\n",
        "      im = img_process_no_imread(im)\n",
        "      batch_img.append(im)\n",
        "      batch_steering.append(steering)\n",
        "    yield(np.asarray(batch_img), np.asarray(batch_steering))"
      ]
    },
    {
      "cell_type": "code",
      "execution_count": null,
      "metadata": {
        "id": "aRt58vwERQum"
      },
      "outputs": [],
      "source": [
        "x_train_gen, y_train_gen = next(batch_generator(X_train, y_train, 1, 1))\n",
        "x_valid_gen, y_valid_gen = next(batch_generator(X_valid, y_valid, 1, 0))\n",
        "fig,axes = plt.subplots(1,2,figsize = (12,4))\n",
        "axes[0].imshow(x_train_gen[0])\n",
        "axes[0].set_title('Training image')\n",
        "axes[1].imshow(x_valid_gen[0])\n",
        "axes[1].set_title('Valid image')"
      ]
    },
    {
      "cell_type": "code",
      "execution_count": null,
      "metadata": {
        "id": "xaBf-sHjtlk1"
      },
      "outputs": [],
      "source": [
        "image = image_paths[149]\n",
        "original_image = npimg.imread(image)\n",
        "preprocessed_image = img_process(image)"
      ]
    },
    {
      "cell_type": "code",
      "execution_count": null,
      "metadata": {
        "id": "Beh5SX9gt57k"
      },
      "outputs": [],
      "source": [
        "fig,axes = plt.subplots(1,2,figsize=(15,10))\n",
        "fig.tight_layout()\n",
        "axes[0].imshow(original_image)\n",
        "axes[0].set_title(\"Original Image\")\n",
        "axes[1].imshow(preprocessed_image)\n",
        "axes[1].set_title(\"Preprocessed Image\")"
      ]
    },
    {
      "cell_type": "code",
      "execution_count": null,
      "metadata": {
        "id": "4dA3Px6-JTGy"
      },
      "outputs": [],
      "source": [
        "# https;//arxiv.org/pdf/1604.07316v1.pdf\n",
        "\n",
        "def nvidia_model():\n",
        "  model = Sequential()\n",
        "  model.add(Convolution2D(24, kernel_size=(5,5), strides=(2,2), input_shape=(66,200, 3)))\n",
        "  model.add(Convolution2D(36, kernel_size=(5,5), strides=(2,2), activation='elu'))\n",
        "  model.add(Convolution2D(48, kernel_size=(5,5), strides=(2,2), activation='elu'))\n",
        "  model.add(Convolution2D(64, kernel_size=(3,3), activation='elu'))\n",
        "  model.add(Convolution2D(64, kernel_size=(3,3), activation='elu'))\n",
        "  model.add(Dropout(0.5))\n",
        "  model.add(Flatten())\n",
        "  model.add(Dense(100, activation='elu'))\n",
        "  model.add(Dropout(0.5))\n",
        "  model.add(Dense(50, activation='elu'))\n",
        "  model.add(Dropout(0.5))\n",
        "  model.add(Dense(10, activation='elu'))\n",
        "  model.add(Dropout(0.5))\n",
        "  model.add(Dense(1))\n",
        "\n",
        "  optimizer = Adam(learning_rate=0.001)\n",
        "  model.compile(loss='mse', optimizer=optimizer)\n",
        "  return model"
      ]
    },
    {
      "cell_type": "code",
      "execution_count": null,
      "metadata": {
        "id": "b-F-Hq4GMeco"
      },
      "outputs": [],
      "source": [
        "model = nvidia_model()\n",
        "print(model.summary)"
      ]
    },
    {
      "cell_type": "code",
      "execution_count": null,
      "metadata": {
        "id": "KGt85CvUM2sp"
      },
      "outputs": [],
      "source": [
        "history = model.fit_generator(batch_generator(X_train, y_train, 100, 1),\n",
        "                              steps_per_epoch=300,\n",
        "                              epochs=10,\n",
        "                              validation_data=batch_generator(X_valid, y_valid, 100, 0),\n",
        "                              validation_steps=200,\n",
        "                              verbose=1,\n",
        "                              shuffle=1)"
      ]
    },
    {
      "cell_type": "code",
      "execution_count": null,
      "metadata": {
        "id": "XuZIqPnVNdnK"
      },
      "outputs": [],
      "source": [
        "plt.plot(history.history['loss'])\n",
        "plt.plot(history.history['val_loss'])\n",
        "plt.legend(['training', ])"
      ]
    },
    {
      "cell_type": "code",
      "execution_count": null,
      "metadata": {
        "id": "W0gbAnylQEVG"
      },
      "outputs": [],
      "source": [
        "model.save('new_model.h5')"
      ]
    }
  ],
  "metadata": {
    "accelerator": "GPU",
    "colab": {
      "gpuType": "T4",
      "provenance": []
    },
    "kernelspec": {
      "display_name": "Python 3",
      "name": "python3"
    },
    "language_info": {
      "codemirror_mode": {
        "name": "ipython",
        "version": 3
      },
      "file_extension": ".py",
      "mimetype": "text/x-python",
      "name": "python",
      "nbconvert_exporter": "python",
      "pygments_lexer": "ipython3",
      "version": "3.12.0"
    }
  },
  "nbformat": 4,
  "nbformat_minor": 0
}
